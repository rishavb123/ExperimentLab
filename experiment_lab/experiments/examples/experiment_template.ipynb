{
 "cells": [
  {
   "cell_type": "markdown",
   "metadata": {},
   "source": [
    "# Experiment Template"
   ]
  },
  {
   "cell_type": "markdown",
   "metadata": {},
   "source": [
    "This notebook is a template for creating and running experiments using the ExperimentLab library."
   ]
  },
  {
   "cell_type": "markdown",
   "metadata": {},
   "source": [
    "First, import the required classes and modules to create and run an experiment. Also define some constants that are required to call the run_experiment function."
   ]
  },
  {
   "cell_type": "code",
   "execution_count": null,
   "metadata": {},
   "outputs": [],
   "source": [
    "from typing import Any\n",
    "from pprint import pprint\n",
    "\n",
    "from hydra.core.config_store import ConfigStore\n",
    "from experiment_lab.core import BaseConfig, BaseExperiment, run_experiment"
   ]
  },
  {
   "cell_type": "code",
   "execution_count": null,
   "metadata": {},
   "outputs": [],
   "source": [
    "CONFIG_PATH = \"./configs\"\n",
    "CONFIG_NAME = \"config\""
   ]
  },
  {
   "cell_type": "markdown",
   "metadata": {},
   "source": [
    "Next, we need to setup the config as needed."
   ]
  },
  {
   "cell_type": "code",
   "execution_count": null,
   "metadata": {},
   "outputs": [],
   "source": [
    "# TODO: define any subconfigs here.\n",
    "\n",
    "class ExperimentConfig(BaseConfig):\n",
    "\n",
    "    # TODO: add any additional config for the experiment here.\n",
    "\n",
    "    pass"
   ]
  },
  {
   "cell_type": "code",
   "execution_count": null,
   "metadata": {},
   "outputs": [],
   "source": [
    "def register_configs():\n",
    "    cs = ConfigStore.instance()\n",
    "    cs.store(name=\"experiment_config\", node=ExperimentConfig)"
   ]
  },
  {
   "cell_type": "markdown",
   "metadata": {},
   "source": [
    "Next, the experiment class must be defined."
   ]
  },
  {
   "cell_type": "code",
   "execution_count": null,
   "metadata": {},
   "outputs": [],
   "source": [
    "class Experiment(BaseExperiment):\n",
    "\n",
    "    def __init__(self, cfg: ExperimentConfig) -> None:\n",
    "        self.cfg = cfg\n",
    "        self.initialize_experiment()\n",
    "\n",
    "    def single_run(self, run_id: str, run_output_path: str, seed: int | None = None) -> Any:\n",
    "        # TODO: write the code for the experiment here!\n",
    "        raise NotImplementedError(\"Implement this function!\")"
   ]
  },
  {
   "cell_type": "markdown",
   "metadata": {},
   "source": [
    "Now, lastly, actually run the experiment using the defined config."
   ]
  },
  {
   "cell_type": "code",
   "execution_count": null,
   "metadata": {},
   "outputs": [],
   "source": [
    "results = run_experiment(\n",
    "    experiment_cls=Experiment,\n",
    "    config_cls=ExperimentConfig,\n",
    "    register_configs=register_configs,\n",
    "    config_path=CONFIG_PATH,\n",
    "    config_name=CONFIG_NAME,\n",
    ")"
   ]
  },
  {
   "cell_type": "code",
   "execution_count": null,
   "metadata": {},
   "outputs": [],
   "source": [
    "pprint(results)"
   ]
  }
 ],
 "metadata": {
  "language_info": {
   "name": "python"
  }
 },
 "nbformat": 4,
 "nbformat_minor": 2
}
